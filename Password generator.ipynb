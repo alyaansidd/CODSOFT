{
 "cells": [
  {
   "cell_type": "code",
   "execution_count": 1,
   "id": "b0f3ce5c",
   "metadata": {},
   "outputs": [],
   "source": [
    "from tkinter import*\n",
    "import random, string\n",
    "\n",
    "\n",
    "r=Tk()\n",
    "r.geometry(\"500x400\")\n",
    "r.title(\"Password Generator\")\n",
    "\n",
    "title = StringVar()\n",
    "label = Label(r,textvariable=title).pack()\n",
    "title.set(\"The Strength of password\")\n",
    "\n",
    "def selection():\n",
    "    selection = choice.get()\n",
    "\n",
    "choice = IntVar()\n",
    "R1 = Radiobutton(r,text=\"POOR\",variable=choice,value=1,command=selection).pack(anchor=CENTER)\n",
    "R2 = Radiobutton(r,text=\"AVERAGE\",variable=choice,value=2,command=selection).pack(anchor=CENTER)\n",
    "R3 = Radiobutton(r,text=\"ADVANCED\",variable=choice,value=3,command=selection).pack(anchor=CENTER)\n",
    "labelchoice = Label(r)\n",
    "labelchoice.pack()\n",
    "\n",
    "lenlabel = StringVar()\n",
    "lenlabel.set(\"Password length\")\n",
    "lentitle = Label(r,textvariable=lenlabel).pack()\n",
    "\n",
    "val = IntVar()\n",
    "spinlength = Spinbox(r,from_=8 ,to_=24, textvariable=val,width=13).pack()\n",
    "\n",
    "def callback():\n",
    "    Isum.config(text=passgen())\n",
    "\n",
    "passgenButton = Button(r,text=\"Generate Password\",bd=5,height=2,command=callback)\n",
    "passgenButton.pack()\n",
    "password = str(callback)\n",
    "\n",
    "Isum = Label(r,text=\"\")\n",
    "Isum.pack(side=BOTTOM)\n",
    "\n",
    "\n",
    "poor= string.ascii_uppercase + string.ascii_lowercase\n",
    "average=string.ascii_uppercase + string.ascii_lowercase + string.digits\n",
    "symbols=\"!@#$%&*{}_()'::<>?/'\"\n",
    "advance = poor+average+symbols\n",
    "def passgen():\n",
    "    if choice.get()==1:\n",
    "        return\"\".join(random.sample(poor, val.get()))\n",
    "    elif choice.get()==2:\n",
    "        return\"\".join(random.sample(average, val.get()))\n",
    "    elif choice.get()==3:\n",
    "        return\"\".join(random.sample(advance, val.get()))\n",
    "\n",
    "\n",
    "\n",
    "r.mainloop()"
   ]
  },
  {
   "cell_type": "code",
   "execution_count": null,
   "id": "5734efdd",
   "metadata": {},
   "outputs": [],
   "source": []
  }
 ],
 "metadata": {
  "kernelspec": {
   "display_name": "Python 3 (ipykernel)",
   "language": "python",
   "name": "python3"
  },
  "language_info": {
   "codemirror_mode": {
    "name": "ipython",
    "version": 3
   },
   "file_extension": ".py",
   "mimetype": "text/x-python",
   "name": "python",
   "nbconvert_exporter": "python",
   "pygments_lexer": "ipython3",
   "version": "3.10.9"
  }
 },
 "nbformat": 4,
 "nbformat_minor": 5
}
