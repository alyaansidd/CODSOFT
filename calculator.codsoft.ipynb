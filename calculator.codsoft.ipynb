{
 "cells": [
  {
   "cell_type": "code",
   "execution_count": 1,
   "id": "7d4100c6",
   "metadata": {},
   "outputs": [],
   "source": [
    "from tkinter import*\n",
    "r=Tk()\n",
    "r.geometry(\"570x600+100+100\")\n",
    "r.configure(bg=\"BLACK\")\n",
    "r.title(\"CALCULATOR\")\n",
    "r.resizable(False,False)\n",
    "\n",
    "equation = \"\"\n",
    "\n",
    "def show(value):\n",
    "    global equation\n",
    "    equation+=value\n",
    "    label_result.config(text=equation)\n",
    "    \n",
    "    \n",
    "def clear():\n",
    "    global equation\n",
    "    equation= \"\"\n",
    "    label_result.config(text=equation)\n",
    "    \n",
    "def calculate():\n",
    "    global equation\n",
    "    result =\"\"\n",
    "    if equation !=\"\":\n",
    "        try:\n",
    "            result= eval(equation)\n",
    "        except:\n",
    "            result =\"error\"\n",
    "            equation = \"\"\n",
    "    label_result.config(text=result)\n",
    "    \n",
    "label_result=Label(r,width=25,height=2,text=\"\",font=(\"arial\",30))\n",
    "label_result.pack()\n",
    "Button(r,text=\"C\",width=5,height=1, font=(\"arial\",30,\"bold\"), bd=1,fg=\"white\",bg=\"RED\",command=lambda: clear()).place(x=10,y=100)\n",
    "Button(r,text=\"/\",width=5,height=1, font=(\"arial\",30,\"bold\"), bd=1,fg=\"white\",bg=\"GREY\",command=lambda: show(\"/\")).place(x=150,y=100)\n",
    "Button(r,text=\"%\",width=5,height=1, font=(\"arial\",30,\"bold\"), bd=1,fg=\"white\",bg=\"GREY\",command=lambda: show(\"%\")).place(x=290,y=100)\n",
    "Button(r,text=\"*\",width=5,height=1, font=(\"arial\",30,\"bold\"), bd=1,fg=\"white\",bg=\"GREY\",command=lambda: show(\"*\")).place(x=430,y=100)\n",
    ",command=lambda: show(\"/\")\n",
    "Button(r,text=\"7\",width=5,height=1, font=(\"arial\",30,\"bold\"), bd=1,fg=\"white\",bg=\"GREY\",command=lambda: show(\"7\")).place(x=10,y=200)\n",
    "Button(r,text=\"8\",width=5,height=1, font=(\"arial\",30,\"bold\"), bd=1,fg=\"white\",bg=\"GREY\",command=lambda: show(\"8\")).place(x=150,y=200)\n",
    "Button(r,text=\"9\",width=5,height=1, font=(\"arial\",30,\"bold\"), bd=1,fg=\"white\",bg=\"GREY\",command=lambda: show(\"9\")).place(x=290,y=200)\n",
    "Button(r,text=\"-\",width=5,height=1, font=(\"arial\",30,\"bold\"), bd=1,fg=\"white\",bg=\"GREY\",command=lambda: show(\"-\")).place(x=430,y=200)\n",
    "\n",
    "Button(r,text=\"4\",width=5,height=1, font=(\"arial\",30,\"bold\"), bd=1,fg=\"white\",bg=\"GREY\",command=lambda: show(\"4\")).place(x=10,y=300)\n",
    "Button(r,text=\"5\",width=5,height=1, font=(\"arial\",30,\"bold\"), bd=1,fg=\"white\",bg=\"GREY\",command=lambda: show(\"5\")).place(x=150,y=300)\n",
    "Button(r,text=\"6\",width=5,height=1, font=(\"arial\",30,\"bold\"), bd=1,fg=\"white\",bg=\"GREY\",command=lambda: show(\"6\")).place(x=290,y=300)\n",
    "Button(r,text=\"+\",width=5,height=1, font=(\"arial\",30,\"bold\"), bd=1,fg=\"white\",bg=\"GREY\",command=lambda: show(\"+\")).place(x=430,y=300)\n",
    "\n",
    "Button(r,text=\"1\",width=5,height=1, font=(\"arial\",30,\"bold\"), bd=1,fg=\"white\",bg=\"GREY\",command=lambda: show(\"1\")).place(x=10,y=400)\n",
    "Button(r,text=\"2\",width=5,height=1, font=(\"arial\",30,\"bold\"), bd=1,fg=\"white\",bg=\"GREY\",command=lambda: show(\"2\")).place(x=150,y=400)\n",
    "Button(r,text=\"3\",width=5,height=1, font=(\"arial\",30,\"bold\"), bd=1,fg=\"white\",bg=\"GREY\",command=lambda: show(\"3\")).place(x=290,y=400)\n",
    "Button(r,text=\"0\",width=11,height=1, font=(\"arial\",30,\"bold\"), bd=1,fg=\"white\",bg=\"GREY\",command=lambda: show(\"0\")).place(x=10,y=500)\n",
    "\n",
    "Button(r,text=\".\",width=5,height=1, font=(\"arial\",30,\"bold\"), bd=1,fg=\"white\",bg=\"GREY\",command=lambda: show(\".\")).place(x=290,y=500)\n",
    "Button(r,text=\"=\",width=5,height=3, font=(\"arial\",30,\"bold\"), bd=1,fg=\"white\",bg=\"BLUE\",command=lambda: calculate()).place(x=430,y=400)\n",
    "r.mainloop()"
   ]
  },
  {
   "cell_type": "code",
   "execution_count": null,
   "id": "083b2a7f",
   "metadata": {},
   "outputs": [],
   "source": []
  }
 ],
 "metadata": {
  "kernelspec": {
   "display_name": "Python 3 (ipykernel)",
   "language": "python",
   "name": "python3"
  },
  "language_info": {
   "codemirror_mode": {
    "name": "ipython",
    "version": 3
   },
   "file_extension": ".py",
   "mimetype": "text/x-python",
   "name": "python",
   "nbconvert_exporter": "python",
   "pygments_lexer": "ipython3",
   "version": "3.10.9"
  }
 },
 "nbformat": 4,
 "nbformat_minor": 5
}
